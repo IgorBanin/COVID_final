{
 "cells": [
  {
   "cell_type": "markdown",
   "metadata": {},
   "source": [
    "## Analysis on Coronavirus Symptoms and Spread of Disease\n",
    "\n",
    "#### By: Igor Banin, and Max Wang"
   ]
  },
  {
   "cell_type": "markdown",
   "metadata": {},
   "source": [
    "### Summary of research questions and results\n",
    "\n",
    "We are looking at 2 major topics regarding the Coronavirus - how has the virus spread since its inception and predict how it will spread, and what factors attribute to likelihood of contraction.\n",
    "\n",
    "**RESULTS PORTION TO BE ADDED**"
   ]
  },
  {
   "cell_type": "markdown",
   "metadata": {},
   "source": [
    "### Motivation and background\n",
    "\n",
    "The coronavirus is without a doubt one of the biggest headlines as well as the biggest health issue to society currently. Not only has the first fatality from the virus in the U.S. occurred in Washington, the governor has also declared a state of emergency. Because of how severe the issue is becoming, we believe that computing data regarding the virus is a worthwhile endeavor. Understanding whether certain factors attribute strongly to contraction or analyzing how the virus has traveled could possibly give us the knowledge to predict and prevent contraction."
   ]
  },
  {
   "cell_type": "markdown",
   "metadata": {},
   "source": [
    "### Dataset\n",
    "\n",
    "[Kaggles COVID data set](https://www.kaggle.com/sudalairajkumar/novel-corona-virus-2019-dataset) contains novel coronavirus cases, their dates, as well as their locations.\n",
    "\n",
    "The [ncov-data github](https://github.com/CryptoKass/ncov-data) contains the number of cases in different countries, number of deaths as well as seriousness of cases.\n",
    "\n",
    "[Excel dataset](https://docs.google.com/spreadsheets/d/1jS24DjSPVWa4iuxuD4OAXrE3QeI8c9BC1hSlqr-NMiU/edit#gid=1465940053) that can reduce the scale, and help us see how virus cases spread throughout Asia.\n",
    "\n",
    "This [folder](https://github.com/CSSEGISandData/COVID-19/tree/master/csse_covid_19_data) contains daily time series summary tables, including confirmed, deaths and recovered. All data is from the daily case report."
   ]
  },
  {
   "cell_type": "markdown",
   "metadata": {},
   "source": [
    "### Methodology\n",
    "\n",
    "For the analysis of the spread of the virus, we will use time series tables of confirmed cases in different locations, and analyze the growth of confirmed/death/recovered cases by joining tables of differing dates together using pandas. Afterwards, we will then use the data and try to predict the growth of cases in the next few days on a per location or country basis. We will plot the relations of existing data using seaborn, and visualization using geopandas.\n",
    "For attribute analysis, we will extract information of confirmed patients such as gender, age, location, etc using pandas, and visualize the data on pandas. Then, we will use the extracted data to train a decision tree classifier and attempt to estimate the likelihood of becoming infected based on the aforementioned attributes. \n"
   ]
  },
  {
   "cell_type": "markdown",
   "metadata": {},
   "source": [
    "### Results\n",
    "\n",
    "Present and discuss your research results. Treat each of your research questions separately. Focus in particular on the results that are most interesting, surprising, or important. Discuss the consequences or implications. Interpret the results: if the answers are unexpected, then see whether you can find an explanation for them, such as an external factor that your analysis did not account for. Include some visualization of your results (a graph, plot, bar chart, etc.). These plots should be created programmaticaly in the code you submit. If you have to create plots by hand using a program like Excel, you must provide a good reason why it was not possible to create the plot you wanted using Python. \n",
    "\n",
    "**TLDR write code here**"
   ]
  },
  {
   "cell_type": "markdown",
   "metadata": {},
   "source": [
    "### Reproducing your results\n",
    "\n",
    "Give clear and explicit instructions for obtaining the data and for running the analysis — this is usually a set of commands that can be typed to the command line. We should be able to follow these directions to run your code ourselves. Also explain how to interpret the results or to find the interesting parts in the output.\n",
    "These instructions must make it possible for the course staff to re-create, without any additional data entry or interaction, both (a) every number or figure that appears in your report and (b) any other results that support your argument but that you did not include in your report. "
   ]
  },
  {
   "cell_type": "markdown",
   "metadata": {},
   "source": [
    "### Work Plan Evaluation\n",
    "\n",
    "Include your work plan and evaluate it. How accurate were your work plan estimates from Part I? Why were your estimates good or bad? "
   ]
  },
  {
   "cell_type": "markdown",
   "metadata": {},
   "source": [
    "### Testing\n",
    "\n",
    "Describe how you tested your code. Did you use asserts? Smaller data files? Be sure to submit your tests and any testing files when you submit your code. Make sure you tell us why we should trust your results? "
   ]
  },
  {
   "cell_type": "markdown",
   "metadata": {},
   "source": [
    "### Collaboration\n",
    "\n",
    "State which students or other people (besides the course staff and your group mates, if any) helped you with the assignment, or that no one did. "
   ]
  },
  {
   "cell_type": "code",
   "execution_count": null,
   "metadata": {},
   "outputs": [],
   "source": []
  }
 ],
 "metadata": {
  "kernelspec": {
   "display_name": "Python 3",
   "language": "python",
   "name": "python3"
  },
  "language_info": {
   "codemirror_mode": {
    "name": "ipython",
    "version": 3
   },
   "file_extension": ".py",
   "mimetype": "text/x-python",
   "name": "python",
   "nbconvert_exporter": "python",
   "pygments_lexer": "ipython3",
   "version": "3.7.4"
  }
 },
 "nbformat": 4,
 "nbformat_minor": 2
}
